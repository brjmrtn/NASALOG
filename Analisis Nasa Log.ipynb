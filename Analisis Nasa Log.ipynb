{
 "cells": [
  {
   "cell_type": "code",
   "execution_count": 6,
   "id": "ee2806d5",
   "metadata": {},
   "outputs": [],
   "source": [
    "# Importamos librerias\n",
    "import findspark\n",
    "findspark.init()\n",
    "\n",
    "import pyspark\n",
    "from pyspark.sql.functions import *\n",
    "\n",
    "from pyspark.sql import SparkSession\n",
    "\n",
    "#Creamos la session\n",
    "spark = (SparkSession\n",
    "        .builder\n",
    "        .appName(\"Nasa\")\n",
    "        .getOrCreate())"
   ]
  },
  {
   "cell_type": "code",
   "execution_count": 10,
   "id": "28641e76",
   "metadata": {},
   "outputs": [],
   "source": [
    "# Cargamos el archivo parquet con el que vamos a trabajar\n",
    "\n",
    "nasa = spark.read.parquet(\"Nasa.parquet\")"
   ]
  },
  {
   "cell_type": "code",
   "execution_count": 11,
   "id": "aef4ad8b",
   "metadata": {},
   "outputs": [
    {
     "name": "stdout",
     "output_type": "stream",
     "text": [
      "+--------------------+------+--------------------+--------+------+-----+-------------------+\n",
      "|                host|method|           resources|protocol|status| size|               time|\n",
      "+--------------------+------+--------------------+--------+------+-----+-------------------+\n",
      "|        199.72.81.55|   GET|    /history/apollo/|HTTP/1.0|   200| 6245|1995-07-01 00:00:01|\n",
      "|unicomp6.unicomp.net|   GET| /shuttle/countdown/|HTTP/1.0|   200| 3985|1995-07-01 00:00:06|\n",
      "|      199.120.110.21|   GET|/shuttle/missions...|HTTP/1.0|   200| 4085|1995-07-01 00:00:09|\n",
      "|  burger.letters.com|   GET|/shuttle/countdow...|HTTP/1.0|   304|    0|1995-07-01 00:00:11|\n",
      "|      199.120.110.21|   GET|/shuttle/missions...|HTTP/1.0|   200| 4179|1995-07-01 00:00:11|\n",
      "|  burger.letters.com|   GET|/images/NASA-logo...|HTTP/1.0|   304|    0|1995-07-01 00:00:12|\n",
      "|  burger.letters.com|   GET|/shuttle/countdow...|HTTP/1.0|   200|    0|1995-07-01 00:00:12|\n",
      "|     205.212.115.106|   GET|/shuttle/countdow...|HTTP/1.0|   200| 3985|1995-07-01 00:00:12|\n",
      "|         d104.aa.net|   GET| /shuttle/countdown/|HTTP/1.0|   200| 3985|1995-07-01 00:00:13|\n",
      "|      129.94.144.152|   GET|                   /|HTTP/1.0|   200| 7074|1995-07-01 00:00:13|\n",
      "|unicomp6.unicomp.net|   GET|/shuttle/countdow...|HTTP/1.0|   200|40310|1995-07-01 00:00:14|\n",
      "|unicomp6.unicomp.net|   GET|/images/NASA-logo...|HTTP/1.0|   200|  786|1995-07-01 00:00:14|\n",
      "|unicomp6.unicomp.net|   GET|/images/KSC-logos...|HTTP/1.0|   200| 1204|1995-07-01 00:00:14|\n",
      "|         d104.aa.net|   GET|/shuttle/countdow...|HTTP/1.0|   200|40310|1995-07-01 00:00:15|\n",
      "|         d104.aa.net|   GET|/images/NASA-logo...|HTTP/1.0|   200|  786|1995-07-01 00:00:15|\n",
      "|         d104.aa.net|   GET|/images/KSC-logos...|HTTP/1.0|   200| 1204|1995-07-01 00:00:15|\n",
      "|      129.94.144.152|   GET|/images/ksclogo-m...|HTTP/1.0|   304|    0|1995-07-01 00:00:17|\n",
      "|      199.120.110.21|   GET|/images/launch-lo...|HTTP/1.0|   200| 1713|1995-07-01 00:00:17|\n",
      "|ppptky391.asahi-n...|   GET|/facts/about_ksc....|HTTP/1.0|   200| 3977|1995-07-01 00:00:18|\n",
      "|  net-1-141.eden.com|   GET|/shuttle/missions...|HTTP/1.0|   200|34029|1995-07-01 00:00:19|\n",
      "+--------------------+------+--------------------+--------+------+-----+-------------------+\n",
      "only showing top 20 rows\n",
      "\n"
     ]
    }
   ],
   "source": [
    "nasa.show()"
   ]
  },
  {
   "cell_type": "code",
   "execution_count": 13,
   "id": "000d82d3",
   "metadata": {},
   "outputs": [
    {
     "ename": "AttributeError",
     "evalue": "'int' object has no attribute 'distinct'",
     "output_type": "error",
     "traceback": [
      "\u001b[1;31m---------------------------------------------------------------------------\u001b[0m",
      "\u001b[1;31mAttributeError\u001b[0m                            Traceback (most recent call last)",
      "\u001b[1;32m~\\AppData\\Local\\Temp/ipykernel_14456/2242496867.py\u001b[0m in \u001b[0;36m<module>\u001b[1;34m\u001b[0m\n\u001b[1;32m----> 1\u001b[1;33m \u001b[0mnasa\u001b[0m\u001b[1;33m.\u001b[0m\u001b[0mselect\u001b[0m\u001b[1;33m(\u001b[0m\u001b[1;34m'host'\u001b[0m\u001b[1;33m)\u001b[0m\u001b[1;33m.\u001b[0m\u001b[0mcount\u001b[0m\u001b[1;33m(\u001b[0m\u001b[1;33m)\u001b[0m\u001b[1;33m.\u001b[0m\u001b[0mdistinct\u001b[0m\u001b[1;33m(\u001b[0m\u001b[1;33m)\u001b[0m\u001b[1;33m\u001b[0m\u001b[1;33m\u001b[0m\u001b[0m\n\u001b[0m",
      "\u001b[1;31mAttributeError\u001b[0m: 'int' object has no attribute 'distinct'"
     ]
    }
   ],
   "source": [
    "nasa.select('host').count().distinct()"
   ]
  },
  {
   "cell_type": "code",
   "execution_count": null,
   "id": "e080e32c",
   "metadata": {},
   "outputs": [],
   "source": []
  }
 ],
 "metadata": {
  "kernelspec": {
   "display_name": "Python 3 (ipykernel)",
   "language": "python",
   "name": "python3"
  },
  "language_info": {
   "codemirror_mode": {
    "name": "ipython",
    "version": 3
   },
   "file_extension": ".py",
   "mimetype": "text/x-python",
   "name": "python",
   "nbconvert_exporter": "python",
   "pygments_lexer": "ipython3",
   "version": "3.9.7"
  }
 },
 "nbformat": 4,
 "nbformat_minor": 5
}
