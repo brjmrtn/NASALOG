{
 "cells": [
  {
   "cell_type": "code",
   "execution_count": 6,
   "id": "6dd605ef",
   "metadata": {},
   "outputs": [],
   "source": [
    "# Importamos librerias\n",
    "import findspark\n",
    "findspark.init()\n",
    "\n",
    "import pyspark\n",
    "from pyspark.sql.functions import *\n",
    "\n",
    "from pyspark.sql import SparkSession\n",
    "\n",
    "#Creamos la session\n",
    "spark = (SparkSession\n",
    "        .builder\n",
    "        .appName(\"Nasa\")\n",
    "        .getOrCreate())"
   ]
  },
  {
   "cell_type": "code",
   "execution_count": 10,
   "id": "cfa641c9",
   "metadata": {},
   "outputs": [],
   "source": [
    "# Cargamos el archivo parquet con el que vamos a trabajar\n",
    "\n",
    "nasa = spark.read.parquet(\"Nasa.parquet\")"
   ]
  },
  {
   "cell_type": "code",
   "execution_count": 11,
   "id": "c8d3f0c8",
   "metadata": {},
   "outputs": [
    {
     "name": "stdout",
     "output_type": "stream",
     "text": [
      "+--------------------+------+--------------------+--------+------+-----+-------------------+\n",
      "|                host|method|           resources|protocol|status| size|               time|\n",
      "+--------------------+------+--------------------+--------+------+-----+-------------------+\n",
      "|        199.72.81.55|   GET|    /history/apollo/|HTTP/1.0|   200| 6245|1995-07-01 00:00:01|\n",
      "|unicomp6.unicomp.net|   GET| /shuttle/countdown/|HTTP/1.0|   200| 3985|1995-07-01 00:00:06|\n",
      "|      199.120.110.21|   GET|/shuttle/missions...|HTTP/1.0|   200| 4085|1995-07-01 00:00:09|\n",
      "|  burger.letters.com|   GET|/shuttle/countdow...|HTTP/1.0|   304|    0|1995-07-01 00:00:11|\n",
      "|      199.120.110.21|   GET|/shuttle/missions...|HTTP/1.0|   200| 4179|1995-07-01 00:00:11|\n",
      "|  burger.letters.com|   GET|/images/NASA-logo...|HTTP/1.0|   304|    0|1995-07-01 00:00:12|\n",
      "|  burger.letters.com|   GET|/shuttle/countdow...|HTTP/1.0|   200|    0|1995-07-01 00:00:12|\n",
      "|     205.212.115.106|   GET|/shuttle/countdow...|HTTP/1.0|   200| 3985|1995-07-01 00:00:12|\n",
      "|         d104.aa.net|   GET| /shuttle/countdown/|HTTP/1.0|   200| 3985|1995-07-01 00:00:13|\n",
      "|      129.94.144.152|   GET|                   /|HTTP/1.0|   200| 7074|1995-07-01 00:00:13|\n",
      "|unicomp6.unicomp.net|   GET|/shuttle/countdow...|HTTP/1.0|   200|40310|1995-07-01 00:00:14|\n",
      "|unicomp6.unicomp.net|   GET|/images/NASA-logo...|HTTP/1.0|   200|  786|1995-07-01 00:00:14|\n",
      "|unicomp6.unicomp.net|   GET|/images/KSC-logos...|HTTP/1.0|   200| 1204|1995-07-01 00:00:14|\n",
      "|         d104.aa.net|   GET|/shuttle/countdow...|HTTP/1.0|   200|40310|1995-07-01 00:00:15|\n",
      "|         d104.aa.net|   GET|/images/NASA-logo...|HTTP/1.0|   200|  786|1995-07-01 00:00:15|\n",
      "|         d104.aa.net|   GET|/images/KSC-logos...|HTTP/1.0|   200| 1204|1995-07-01 00:00:15|\n",
      "|      129.94.144.152|   GET|/images/ksclogo-m...|HTTP/1.0|   304|    0|1995-07-01 00:00:17|\n",
      "|      199.120.110.21|   GET|/images/launch-lo...|HTTP/1.0|   200| 1713|1995-07-01 00:00:17|\n",
      "|ppptky391.asahi-n...|   GET|/facts/about_ksc....|HTTP/1.0|   200| 3977|1995-07-01 00:00:18|\n",
      "|  net-1-141.eden.com|   GET|/shuttle/missions...|HTTP/1.0|   200|34029|1995-07-01 00:00:19|\n",
      "+--------------------+------+--------------------+--------+------+-----+-------------------+\n",
      "only showing top 20 rows\n",
      "\n"
     ]
    }
   ],
   "source": [
    "nasa.show()"
   ]
  },
  {
   "cell_type": "code",
   "execution_count": 14,
   "id": "a2b69688",
   "metadata": {},
   "outputs": [
    {
     "data": {
      "text/plain": [
       "3461612"
      ]
     },
     "execution_count": 14,
     "metadata": {},
     "output_type": "execute_result"
    }
   ],
   "source": [
    "# Vemos cuantos registros tenemos en el df\n",
    "nasa.count()"
   ]
  },
  {
   "cell_type": "code",
   "execution_count": 20,
   "id": "14c0ba35",
   "metadata": {},
   "outputs": [
    {
     "name": "stdout",
     "output_type": "stream",
     "text": [
      "+-------------+-------+\n",
      "|     protocol|  count|\n",
      "+-------------+-------+\n",
      "|     HTTP/1.0|3454716|\n",
      "|             |   6599|\n",
      "|    HTTP/V1.0|    279|\n",
      "|       HTTP/*|     13|\n",
      "|STS-69</a><p>|      4|\n",
      "|            a|      1|\n",
      "+-------------+-------+\n",
      "\n"
     ]
    }
   ],
   "source": [
    "#¿Cuáles son los protocolos web más utilizados? Agrupelos\n",
    "protocolos = (nasa.groupBy('protocol')\n",
    "                  .count()\n",
    "                  .sort('count', ascending = False))\n",
    "\n",
    "protocolos.show()"
   ]
  },
  {
   "cell_type": "code",
   "execution_count": 29,
   "id": "71cc74cb",
   "metadata": {},
   "outputs": [],
   "source": [
    "#Observamos que hay protocolos con cadenas vacias, al ser una gran cantidad de campos vacios\n",
    "# los reemplazaremos por null\n",
    "\n",
    "null_protocol = nasa.na.replace('', None)"
   ]
  },
  {
   "cell_type": "code",
   "execution_count": 34,
   "id": "9ab7d52c",
   "metadata": {},
   "outputs": [
    {
     "name": "stdout",
     "output_type": "stream",
     "text": [
      "+-------------+-------+\n",
      "|     protocol|  count|\n",
      "+-------------+-------+\n",
      "|     HTTP/1.0|3454716|\n",
      "|         null|   6599|\n",
      "|    HTTP/V1.0|    279|\n",
      "|       HTTP/*|     13|\n",
      "|STS-69</a><p>|      4|\n",
      "|            a|      1|\n",
      "+-------------+-------+\n",
      "\n"
     ]
    }
   ],
   "source": [
    "# Volvemos a formular la pregunta con los campos corregidos\n",
    "nasa_df1 = (null_protocol.groupBy('protocol')\n",
    "            .count()\n",
    "            .sort('count', ascending = False))\n",
    "\n",
    "nasa_df1.show()"
   ]
  },
  {
   "cell_type": "code",
   "execution_count": 35,
   "id": "58aef5c8",
   "metadata": {},
   "outputs": [
    {
     "name": "stdout",
     "output_type": "stream",
     "text": [
      "+------+-------+\n",
      "|status|  count|\n",
      "+------+-------+\n",
      "|   200|3100524|\n",
      "|   304| 266773|\n",
      "|   302|  73070|\n",
      "|   404|  20899|\n",
      "|   403|    225|\n",
      "|   500|     65|\n",
      "|   501|     41|\n",
      "|   400|     15|\n",
      "+------+-------+\n",
      "\n"
     ]
    }
   ],
   "source": [
    "# Cuáles son los códigos de estado mas comunes en la web? Agrupelos\n",
    "status_code = (null_protocol.groupBy('status')\n",
    "              .count()\n",
    "              .sort('count', ascending = False))\n",
    "\n",
    "status_code.show()"
   ]
  },
  {
   "cell_type": "code",
   "execution_count": 36,
   "id": "19ea472d",
   "metadata": {},
   "outputs": [
    {
     "name": "stdout",
     "output_type": "stream",
     "text": [
      "+---------------+-------+\n",
      "|         method|  count|\n",
      "+---------------+-------+\n",
      "|            GET|3451720|\n",
      "|           HEAD|   7915|\n",
      "|           null|   1753|\n",
      "|           POST|    222|\n",
      "|�|\u0005\u0011t\u0003�9ð'À|\u0005\u0011u|      2|\n",
      "+---------------+-------+\n",
      "\n"
     ]
    }
   ],
   "source": [
    "# ¿los métodos de petición mas utilizados?\n",
    "\n",
    "methods = (null_protocol.groupBy('method')\n",
    "          .count()\n",
    "          .sort('count', ascending = False))\n",
    "methods.show()"
   ]
  },
  {
   "cell_type": "code",
   "execution_count": 37,
   "id": "0295ad23",
   "metadata": {},
   "outputs": [],
   "source": [
    "# Vemos que hay métodos con cadenas vacias, anteriormente aplicamos a las cadenas vacias la sutitución por null.\n",
    "# Hay otro método con error en el nombre, con 2 valores. Habria que estudiarlo si eliminarlo o ver de cual se trata."
   ]
  },
  {
   "cell_type": "code",
   "execution_count": 43,
   "id": "b6e700af",
   "metadata": {},
   "outputs": [
    {
     "name": "stdout",
     "output_type": "stream",
     "text": [
      "+----+------+--------------------+--------+------+-------+-------------------+\n",
      "|host|method|           resources|protocol|status|   size|               time|\n",
      "+----+------+--------------------+--------+------+-------+-------------------+\n",
      "|null|   GET|/shuttle/countdow...|HTTP/1.0|   200|6823936|1995-07-07 14:03:32|\n",
      "+----+------+--------------------+--------+------+-------+-------------------+\n",
      "\n"
     ]
    }
   ],
   "source": [
    "# ¿Qué recurso tuvo la mayor transferencia de bytes de la página web?\n",
    "nasa_complete = null_protocol\n",
    "\n",
    "nasa_complete.orderBy(desc('size')).limit(1).show()"
   ]
  },
  {
   "cell_type": "code",
   "execution_count": 47,
   "id": "f3db4115",
   "metadata": {},
   "outputs": [
    {
     "name": "stdout",
     "output_type": "stream",
     "text": [
      "+--------------------+------+\n",
      "|           resources| count|\n",
      "+--------------------+------+\n",
      "|/images/NASA-logo...|208714|\n",
      "+--------------------+------+\n",
      "\n"
     ]
    }
   ],
   "source": [
    "# Además, queremos saber que recurso de nuestra web es el que más tráfico recibe.\n",
    "#Es decir, el recurso con más registros en nuestro log.\n",
    "nasa_complete.groupBy('resources').count().orderBy(desc('count')).limit(1).show()"
   ]
  },
  {
   "cell_type": "code",
   "execution_count": 55,
   "id": "eaf75a0d",
   "metadata": {},
   "outputs": [
    {
     "name": "stdout",
     "output_type": "stream",
     "text": [
      "+-------------------+-----+\n",
      "|               time|count|\n",
      "+-------------------+-----+\n",
      "|1995-07-13 13:32:58|   20|\n",
      "|1995-08-29 11:11:47|   18|\n",
      "|1995-07-13 09:42:19|   18|\n",
      "|1995-07-13 13:32:59|   18|\n",
      "|1995-07-13 09:42:20|   17|\n",
      "|1995-08-01 08:18:28|   17|\n",
      "|1995-07-13 08:35:02|   16|\n",
      "|1995-08-15 15:00:36|   16|\n",
      "|1995-08-15 14:56:55|   16|\n",
      "|1995-07-13 09:49:30|   16|\n",
      "|1995-07-11 14:47:44|   16|\n",
      "|1995-07-13 09:34:06|   15|\n",
      "|1995-07-17 14:20:57|   15|\n",
      "|1995-08-30 11:18:22|   15|\n",
      "|1995-07-05 16:29:15|   15|\n",
      "|1995-07-13 09:27:16|   15|\n",
      "|1995-07-12 13:39:35|   15|\n",
      "|1995-08-10 19:20:46|   15|\n",
      "|1995-07-13 08:56:34|   15|\n",
      "|1995-07-13 09:51:04|   14|\n",
      "+-------------------+-----+\n",
      "only showing top 20 rows\n",
      "\n"
     ]
    }
   ],
   "source": [
    "nasa_complete.groupBy('time').count().orderBy(desc('count')).show()"
   ]
  },
  {
   "cell_type": "code",
   "execution_count": 56,
   "id": "a8c94d78",
   "metadata": {},
   "outputs": [
    {
     "name": "stdout",
     "output_type": "stream",
     "text": [
      "+--------------------+-----+\n",
      "|                host|count|\n",
      "+--------------------+-----+\n",
      "|piweba3y.prodigy.com|21988|\n",
      "|piweba4y.prodigy.com|16437|\n",
      "|piweba1y.prodigy.com|12825|\n",
      "|  edams.ksc.nasa.gov|11964|\n",
      "|        163.206.89.4| 9697|\n",
      "|         news.ti.com| 8161|\n",
      "|www-d1.proxy.aol.com| 8047|\n",
      "|  alyssa.prodigy.com| 8037|\n",
      "|                null| 7660|\n",
      "| siltb10.orl.mmc.com| 7573|\n",
      "|www-a2.proxy.aol.com| 7516|\n",
      "|www-b2.proxy.aol.com| 7266|\n",
      "|piweba2y.prodigy.com| 7246|\n",
      "|www-b3.proxy.aol.com| 7218|\n",
      "|www-d4.proxy.aol.com| 7211|\n",
      "|www-b5.proxy.aol.com| 7080|\n",
      "|www-d2.proxy.aol.com| 6984|\n",
      "|www-b4.proxy.aol.com| 6972|\n",
      "|www-d3.proxy.aol.com| 6895|\n",
      "|    webgate1.mot.com| 6749|\n",
      "+--------------------+-----+\n",
      "only showing top 20 rows\n",
      "\n"
     ]
    }
   ],
   "source": [
    "# ¿Cuáles son los host más frecuentes?\n",
    "hosts = (nasa_complete.groupBy('host')\n",
    "          .count()\n",
    "          .sort('count', ascending = False))\n",
    "hosts.show()"
   ]
  },
  {
   "cell_type": "code",
   "execution_count": 58,
   "id": "d4e0c608",
   "metadata": {},
   "outputs": [
    {
     "name": "stdout",
     "output_type": "stream",
     "text": [
      "+----+------+\n",
      "|hour| count|\n",
      "+----+------+\n",
      "|  15|230665|\n",
      "|  12|227228|\n",
      "|  13|225350|\n",
      "|  14|223873|\n",
      "|  16|217564|\n",
      "|  11|211064|\n",
      "|  10|193816|\n",
      "|   9|178664|\n",
      "|  17|178443|\n",
      "|   8|149193|\n",
      "|  18|146091|\n",
      "|  22|131432|\n",
      "|  19|131091|\n",
      "|  21|129907|\n",
      "|  20|129753|\n",
      "|  23|123932|\n",
      "|   0|110312|\n",
      "|   7|101403|\n",
      "|   1| 91597|\n",
      "|   2| 77805|\n",
      "+----+------+\n",
      "only showing top 20 rows\n",
      "\n"
     ]
    }
   ],
   "source": [
    "#¿A que horas se produce el mayor número de tráfico en la web?\n",
    "(nasa_complete.select(hour('time').alias('hour'))\n",
    "            .groupBy('hour')\n",
    "            .count()\n",
    "            .orderBy(desc('count'))).show()"
   ]
  },
  {
   "cell_type": "code",
   "execution_count": 64,
   "id": "9dfcdb62",
   "metadata": {},
   "outputs": [
    {
     "name": "stdout",
     "output_type": "stream",
     "text": [
      "+---+-----+\n",
      "|day|count|\n",
      "+---+-----+\n",
      "|  1|  559|\n",
      "|  2|  291|\n",
      "|  3|  778|\n",
      "|  4|  705|\n",
      "|  5|  733|\n",
      "|  6| 1013|\n",
      "|  7| 1107|\n",
      "|  8|  691|\n",
      "|  9|  627|\n",
      "| 10|  713|\n",
      "| 11|  734|\n",
      "| 12|  667|\n",
      "| 13|  748|\n",
      "| 14|  700|\n",
      "| 15|  581|\n",
      "| 16|  516|\n",
      "| 17|  677|\n",
      "| 18|  721|\n",
      "| 19|  848|\n",
      "| 20|  740|\n",
      "+---+-----+\n",
      "only showing top 20 rows\n",
      "\n"
     ]
    }
   ],
   "source": [
    "# ¿Cuál es el número de errores 404 que ha habido cada dia?\n",
    "from pyspark.sql import functions as F\n",
    "\n",
    "error404 = nasa_complete.filter(nasa_complete['status'] == 404)\n",
    "\n",
    "(error404.groupBy(F.dayofmonth('time').alias('day'))\n",
    "        .count()\n",
    "        .sort('day')).show()"
   ]
  },
  {
   "cell_type": "code",
   "execution_count": null,
   "id": "0e4a7728",
   "metadata": {},
   "outputs": [],
   "source": []
  }
 ],
 "metadata": {
  "kernelspec": {
   "display_name": "Python 3 (ipykernel)",
   "language": "python",
   "name": "python3"
  },
  "language_info": {
   "codemirror_mode": {
    "name": "ipython",
    "version": 3
   },
   "file_extension": ".py",
   "mimetype": "text/x-python",
   "name": "python",
   "nbconvert_exporter": "python",
   "pygments_lexer": "ipython3",
   "version": "3.9.7"
  }
 },
 "nbformat": 4,
 "nbformat_minor": 5
}
