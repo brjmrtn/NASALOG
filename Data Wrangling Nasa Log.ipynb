{
 "cells": [
  {
   "cell_type": "code",
   "execution_count": 1,
   "id": "905d276e",
   "metadata": {},
   "outputs": [],
   "source": [
    "# Procedemos a cargar las librerias y carga de los archivos\n",
    "import findspark\n",
    "findspark.init()\n",
    "\n",
    "from pyspark.context import SparkContext\n",
    "from pyspark.sql.context import SQLContext\n",
    "from pyspark.sql.session import SparkSession\n",
    "\n",
    "import re\n",
    "import pandas as pd\n",
    "import glob\n",
    "\n",
    "sc = SparkContext()\n",
    "sqlcontext = SQLContext(sc)\n",
    "spark = SparkSession(sc)\n"
   ]
  },
  {
   "cell_type": "code",
   "execution_count": 24,
   "id": "55e63e5e",
   "metadata": {},
   "outputs": [],
   "source": [
    "data = glob.glob('*.gz')"
   ]
  },
  {
   "cell_type": "code",
   "execution_count": 25,
   "id": "7fd489d8",
   "metadata": {},
   "outputs": [
    {
     "data": {
      "text/plain": [
       "['NASA_access_log_Aug95 (1).gz', 'NASA_access_log_Jul95.gz']"
      ]
     },
     "execution_count": 25,
     "metadata": {},
     "output_type": "execute_result"
    }
   ],
   "source": [
    "data"
   ]
  },
  {
   "cell_type": "code",
   "execution_count": 26,
   "id": "be4ff407",
   "metadata": {},
   "outputs": [],
   "source": [
    "nasa_df = spark.read.text(data)"
   ]
  },
  {
   "cell_type": "code",
   "execution_count": 27,
   "id": "98842bed",
   "metadata": {},
   "outputs": [
    {
     "name": "stdout",
     "output_type": "stream",
     "text": [
      "root\n",
      " |-- value: string (nullable = true)\n",
      "\n"
     ]
    }
   ],
   "source": [
    "nasa_df.printSchema() # Veamos el esquema de nuestro df"
   ]
  },
  {
   "cell_type": "code",
   "execution_count": 28,
   "id": "80f936a4",
   "metadata": {},
   "outputs": [
    {
     "data": {
      "text/plain": [
       "pyspark.sql.dataframe.DataFrame"
      ]
     },
     "execution_count": 28,
     "metadata": {},
     "output_type": "execute_result"
    }
   ],
   "source": [
    "type(nasa_df) #vemos el type de nuestro df"
   ]
  },
  {
   "cell_type": "code",
   "execution_count": 29,
   "id": "0f931420",
   "metadata": {},
   "outputs": [
    {
     "name": "stdout",
     "output_type": "stream",
     "text": [
      "+-----------------------------------------------------------------------------------------------------------------------+\n",
      "|value                                                                                                                  |\n",
      "+-----------------------------------------------------------------------------------------------------------------------+\n",
      "|199.72.81.55 - - [01/Jul/1995:00:00:01 -0400] \"GET /history/apollo/ HTTP/1.0\" 200 6245                                 |\n",
      "|unicomp6.unicomp.net - - [01/Jul/1995:00:00:06 -0400] \"GET /shuttle/countdown/ HTTP/1.0\" 200 3985                      |\n",
      "|199.120.110.21 - - [01/Jul/1995:00:00:09 -0400] \"GET /shuttle/missions/sts-73/mission-sts-73.html HTTP/1.0\" 200 4085   |\n",
      "|burger.letters.com - - [01/Jul/1995:00:00:11 -0400] \"GET /shuttle/countdown/liftoff.html HTTP/1.0\" 304 0               |\n",
      "|199.120.110.21 - - [01/Jul/1995:00:00:11 -0400] \"GET /shuttle/missions/sts-73/sts-73-patch-small.gif HTTP/1.0\" 200 4179|\n",
      "|burger.letters.com - - [01/Jul/1995:00:00:12 -0400] \"GET /images/NASA-logosmall.gif HTTP/1.0\" 304 0                    |\n",
      "|burger.letters.com - - [01/Jul/1995:00:00:12 -0400] \"GET /shuttle/countdown/video/livevideo.gif HTTP/1.0\" 200 0        |\n",
      "|205.212.115.106 - - [01/Jul/1995:00:00:12 -0400] \"GET /shuttle/countdown/countdown.html HTTP/1.0\" 200 3985             |\n",
      "|d104.aa.net - - [01/Jul/1995:00:00:13 -0400] \"GET /shuttle/countdown/ HTTP/1.0\" 200 3985                               |\n",
      "|129.94.144.152 - - [01/Jul/1995:00:00:13 -0400] \"GET / HTTP/1.0\" 200 7074                                              |\n",
      "+-----------------------------------------------------------------------------------------------------------------------+\n",
      "only showing top 10 rows\n",
      "\n"
     ]
    }
   ],
   "source": [
    "nasa_df.show(10, truncate=False)"
   ]
  },
  {
   "cell_type": "code",
   "execution_count": 30,
   "id": "64cf15ef",
   "metadata": {},
   "outputs": [
    {
     "name": "stdout",
     "output_type": "stream",
     "text": [
      "El DataFrame tiene 3461613 registros, en 1 columna/s\n"
     ]
    }
   ],
   "source": [
    "# Procedemos con el data wrangling\n",
    "# Primero de todo vamos a ver el número de registros de nuestro df\n",
    "print('El DataFrame tiene {} registros, en {} columna/s'.format(nasa_df.count(), len(nasa_df.columns)))"
   ]
  },
  {
   "cell_type": "code",
   "execution_count": 31,
   "id": "2009d6f9",
   "metadata": {},
   "outputs": [
    {
     "name": "stdout",
     "output_type": "stream",
     "text": [
      "+-------------------------+--------------------------+------+-------------------------------------------------+--------+------+-----+\n",
      "|host                     |timestamp                 |method|resources                                        |protocol|status|size |\n",
      "+-------------------------+--------------------------+------+-------------------------------------------------+--------+------+-----+\n",
      "|199.72.81.55             |01/Jul/1995:00:00:01 -0400|GET   |/history/apollo/                                 |HTTP/1.0|200   |6245 |\n",
      "|unicomp6.unicomp.net     |01/Jul/1995:00:00:06 -0400|GET   |/shuttle/countdown/                              |HTTP/1.0|200   |3985 |\n",
      "|199.120.110.21           |01/Jul/1995:00:00:09 -0400|GET   |/shuttle/missions/sts-73/mission-sts-73.html     |HTTP/1.0|200   |4085 |\n",
      "|burger.letters.com       |01/Jul/1995:00:00:11 -0400|GET   |/shuttle/countdown/liftoff.html                  |HTTP/1.0|304   |0    |\n",
      "|199.120.110.21           |01/Jul/1995:00:00:11 -0400|GET   |/shuttle/missions/sts-73/sts-73-patch-small.gif  |HTTP/1.0|200   |4179 |\n",
      "|burger.letters.com       |01/Jul/1995:00:00:12 -0400|GET   |/images/NASA-logosmall.gif                       |HTTP/1.0|304   |0    |\n",
      "|burger.letters.com       |01/Jul/1995:00:00:12 -0400|GET   |/shuttle/countdown/video/livevideo.gif           |HTTP/1.0|200   |0    |\n",
      "|205.212.115.106          |01/Jul/1995:00:00:12 -0400|GET   |/shuttle/countdown/countdown.html                |HTTP/1.0|200   |3985 |\n",
      "|d104.aa.net              |01/Jul/1995:00:00:13 -0400|GET   |/shuttle/countdown/                              |HTTP/1.0|200   |3985 |\n",
      "|129.94.144.152           |01/Jul/1995:00:00:13 -0400|GET   |/                                                |HTTP/1.0|200   |7074 |\n",
      "|unicomp6.unicomp.net     |01/Jul/1995:00:00:14 -0400|GET   |/shuttle/countdown/count.gif                     |HTTP/1.0|200   |40310|\n",
      "|unicomp6.unicomp.net     |01/Jul/1995:00:00:14 -0400|GET   |/images/NASA-logosmall.gif                       |HTTP/1.0|200   |786  |\n",
      "|unicomp6.unicomp.net     |01/Jul/1995:00:00:14 -0400|GET   |/images/KSC-logosmall.gif                        |HTTP/1.0|200   |1204 |\n",
      "|d104.aa.net              |01/Jul/1995:00:00:15 -0400|GET   |/shuttle/countdown/count.gif                     |HTTP/1.0|200   |40310|\n",
      "|d104.aa.net              |01/Jul/1995:00:00:15 -0400|GET   |/images/NASA-logosmall.gif                       |HTTP/1.0|200   |786  |\n",
      "|d104.aa.net              |01/Jul/1995:00:00:15 -0400|GET   |/images/KSC-logosmall.gif                        |HTTP/1.0|200   |1204 |\n",
      "|129.94.144.152           |01/Jul/1995:00:00:17 -0400|GET   |/images/ksclogo-medium.gif                       |HTTP/1.0|304   |0    |\n",
      "|199.120.110.21           |01/Jul/1995:00:00:17 -0400|GET   |/images/launch-logo.gif                          |HTTP/1.0|200   |1713 |\n",
      "|ppptky391.asahi-net.or.jp|01/Jul/1995:00:00:18 -0400|GET   |/facts/about_ksc.html                            |HTTP/1.0|200   |3977 |\n",
      "|net-1-141.eden.com       |01/Jul/1995:00:00:19 -0400|GET   |/shuttle/missions/sts-71/images/KSC-95EC-0916.jpg|HTTP/1.0|200   |34029|\n",
      "+-------------------------+--------------------------+------+-------------------------------------------------+--------+------+-----+\n",
      "only showing top 20 rows\n",
      "\n",
      "(3461613, 7)\n"
     ]
    }
   ],
   "source": [
    "# regex\n",
    "\n",
    "#host\n",
    "regex_host = r'(^\\S+\\.[\\S+\\.]+\\S+)\\s'\n",
    "# timestamps\n",
    "regex_time = r'\\[(\\d{2}/\\w{3}/\\d{4}:\\d{2}:\\d{2}:\\d{2} -\\d{4})]'\n",
    "# http request\n",
    "regex_http = r'\\\"(\\S+)\\s(\\S+)\\s*(\\S*)\\\"'\n",
    "# Status\n",
    "regex_status = r'\\s(\\d{3})\\s'\n",
    "#Content size\n",
    "regex_content = r'\\s(\\d+)$'\n",
    "\n",
    "# Para usar las expresiones regulares usaremos regexp_extract()\n",
    "from pyspark.sql.functions import regexp_extract\n",
    "\n",
    "nasa_log = nasa_df.select(regexp_extract('value', regex_host, 1).alias('host'),\n",
    "                          regexp_extract('value', regex_time, 1).alias('timestamp'),\n",
    "                          regexp_extract('value', regex_http, 1).alias('method'),\n",
    "                          regexp_extract('value', regex_http, 2).alias('resources'),\n",
    "                          regexp_extract('value', regex_http, 3).alias('protocol'),\n",
    "                          regexp_extract('value', regex_status, 1).cast('integer').alias('status'),\n",
    "                          regexp_extract('value', regex_content, 1).cast('integer').alias('size'))\n",
    "nasa_log.show(20, truncate=False)\n",
    "\n",
    "print((nasa_log.count(), len(nasa_log.columns)))"
   ]
  },
  {
   "cell_type": "code",
   "execution_count": 32,
   "id": "d63d9b25",
   "metadata": {},
   "outputs": [
    {
     "name": "stdout",
     "output_type": "stream",
     "text": [
      "Valores nulos:  33905\n"
     ]
    }
   ],
   "source": [
    "# Vamos a proceder a buscar nulos en el df\n",
    "null_df = nasa_log.filter(nasa_log['host'].isNull()|\n",
    "                         nasa_log['timestamp'].isNull()|\n",
    "                         nasa_log['method'].isNull()|\n",
    "                         nasa_log['resources'].isNull()|\n",
    "                         nasa_log['status'].isNull()|\n",
    "                         nasa_log['size'].isNull()|\n",
    "                         nasa_log['protocol'].isNull())\n",
    "print('Valores nulos: ', null_df.count())"
   ]
  },
  {
   "cell_type": "code",
   "execution_count": 33,
   "id": "bcf76fcb",
   "metadata": {},
   "outputs": [
    {
     "name": "stdout",
     "output_type": "stream",
     "text": [
      "+----+---------+------+---------+--------+------+-----+\n",
      "|host|timestamp|method|resources|protocol|status| size|\n",
      "+----+---------+------+---------+--------+------+-----+\n",
      "|   0|        0|     0|        0|       0|     1|33905|\n",
      "+----+---------+------+---------+--------+------+-----+\n",
      "\n"
     ]
    }
   ],
   "source": [
    "# vamos a buscar donde están eso nulos\n",
    "from pyspark.sql.functions import col\n",
    "from pyspark.sql.functions import sum as sm\n",
    "\n",
    "def null(col_name):\n",
    "    return sm(col(col_name).isNull().cast('integer')).alias(col_name)\n",
    "\n",
    "#Construimos una lista de expresiones de columna, una por columna\n",
    "expr = [null(col_name) for col_name in nasa_log.columns]\n",
    "\n",
    "# Ejecutamos la agregación. *expr convierte la lista de expresiones en \n",
    "# argumentos de funciones variables\n",
    "nasa_log.agg(*expr).show()"
   ]
  },
  {
   "cell_type": "code",
   "execution_count": 34,
   "id": "596e08dd",
   "metadata": {},
   "outputs": [
    {
     "data": {
      "text/plain": [
       "1"
      ]
     },
     "execution_count": 34,
     "metadata": {},
     "output_type": "execute_result"
    }
   ],
   "source": [
    "# Vemos que falta un valor en status y 33905 en content_size\n",
    "# Para averiguar como se ve el regisro de estatus, nos aseguramos si la regex\n",
    "# se hizo mal\n",
    "status_null = nasa_df.filter(~nasa_df['value'].rlike(r'\\s(\\d{3})\\s'))\n",
    "status_null.count()"
   ]
  },
  {
   "cell_type": "code",
   "execution_count": 35,
   "id": "9668f8f4",
   "metadata": {},
   "outputs": [
    {
     "name": "stdout",
     "output_type": "stream",
     "text": [
      "+--------+\n",
      "|   value|\n",
      "+--------+\n",
      "|alyssa.p|\n",
      "+--------+\n",
      "\n"
     ]
    }
   ],
   "source": [
    "status_null.show()"
   ]
  },
  {
   "cell_type": "code",
   "execution_count": 36,
   "id": "4bb072d5",
   "metadata": {},
   "outputs": [
    {
     "name": "stdout",
     "output_type": "stream",
     "text": [
      "+----+---------+------+---------+--------+------+-----+\n",
      "|host|timestamp|method|resources|protocol|status| size|\n",
      "+----+---------+------+---------+--------+------+-----+\n",
      "|   0|        0|     0|        0|       0|     0|33904|\n",
      "+----+---------+------+---------+--------+------+-----+\n",
      "\n"
     ]
    }
   ],
   "source": [
    "# Procederemos a eliminarlo\n",
    "nasa_log = nasa_log[nasa_log['status'].isNotNull()]\n",
    "expr = [null(col_name) for col_name in nasa_log.columns]\n",
    "nasa_log.agg(*expr).show()"
   ]
  },
  {
   "cell_type": "code",
   "execution_count": 37,
   "id": "aa11cfdd",
   "metadata": {},
   "outputs": [
    {
     "data": {
      "text/plain": [
       "33905"
      ]
     },
     "execution_count": 37,
     "metadata": {},
     "output_type": "execute_result"
    }
   ],
   "source": [
    "#Procedemos a analizar de la misma manera el content_size\n",
    "null_content = nasa_df.filter(~nasa_df['value'].rlike(r'\\s\\d+$'))\n",
    "null_content.count()"
   ]
  },
  {
   "cell_type": "code",
   "execution_count": 38,
   "id": "ca3a1c05",
   "metadata": {},
   "outputs": [
    {
     "data": {
      "text/plain": [
       "[Row(value='dd15-062.compuserve.com - - [01/Jul/1995:00:01:12 -0400] \"GET /news/sci.space.shuttle/archive/sci-space-shuttle-22-apr-1995-40.txt HTTP/1.0\" 404 -'),\n",
       " Row(value='dynip42.efn.org - - [01/Jul/1995:00:02:14 -0400] \"GET /software HTTP/1.0\" 302 -'),\n",
       " Row(value='ix-or10-06.ix.netcom.com - - [01/Jul/1995:00:02:40 -0400] \"GET /software/winvn HTTP/1.0\" 302 -'),\n",
       " Row(value='ix-or10-06.ix.netcom.com - - [01/Jul/1995:00:03:24 -0400] \"GET /software HTTP/1.0\" 302 -'),\n",
       " Row(value='link097.txdirect.net - - [01/Jul/1995:00:05:06 -0400] \"GET /shuttle HTTP/1.0\" 302 -'),\n",
       " Row(value='ix-war-mi1-20.ix.netcom.com - - [01/Jul/1995:00:05:13 -0400] \"GET /shuttle/missions/sts-78/news HTTP/1.0\" 302 -'),\n",
       " Row(value='ix-war-mi1-20.ix.netcom.com - - [01/Jul/1995:00:05:58 -0400] \"GET /shuttle/missions/sts-72/news HTTP/1.0\" 302 -'),\n",
       " Row(value='netport-27.iu.net - - [01/Jul/1995:00:10:19 -0400] \"GET /pub/winvn/readme.txt HTTP/1.0\" 404 -'),\n",
       " Row(value='netport-27.iu.net - - [01/Jul/1995:00:10:28 -0400] \"GET /pub/winvn/readme.txt HTTP/1.0\" 404 -'),\n",
       " Row(value='dynip38.efn.org - - [01/Jul/1995:00:10:50 -0400] \"GET /software HTTP/1.0\" 302 -')]"
      ]
     },
     "execution_count": 38,
     "metadata": {},
     "output_type": "execute_result"
    }
   ],
   "source": [
    "# Observamos que coinciden con los nulos anteriormente citados\n",
    "null_content.take(10)"
   ]
  },
  {
   "cell_type": "code",
   "execution_count": 39,
   "id": "b76da918",
   "metadata": {},
   "outputs": [
    {
     "name": "stdout",
     "output_type": "stream",
     "text": [
      "+----+---------+------+---------+--------+------+----+\n",
      "|host|timestamp|method|resources|protocol|status|size|\n",
      "+----+---------+------+---------+--------+------+----+\n",
      "|   0|        0|     0|        0|       0|     0|   0|\n",
      "+----+---------+------+---------+--------+------+----+\n",
      "\n"
     ]
    }
   ],
   "source": [
    "# Observamos que los registros con nulos es porque devolvieron errores, no devuelven nada.\n",
    "# Al ser una gran cantidad de nulo los reemplazaremos por 0\n",
    "nasa_log = nasa_log.na.fill({'size': 0})\n",
    "expr = [null(col_name) for col_name in nasa_log.columns]\n",
    "nasa_log.agg(*expr).show()"
   ]
  },
  {
   "cell_type": "code",
   "execution_count": 40,
   "id": "53fc824b",
   "metadata": {},
   "outputs": [
    {
     "name": "stdout",
     "output_type": "stream",
     "text": [
      "+--------------------+------+--------------------+--------+------+----+-------------------+\n",
      "|                host|method|           resources|protocol|status|size|               time|\n",
      "+--------------------+------+--------------------+--------+------+----+-------------------+\n",
      "|        199.72.81.55|   GET|    /history/apollo/|HTTP/1.0|   200|6245|1995-07-01 00:00:01|\n",
      "|unicomp6.unicomp.net|   GET| /shuttle/countdown/|HTTP/1.0|   200|3985|1995-07-01 00:00:06|\n",
      "|      199.120.110.21|   GET|/shuttle/missions...|HTTP/1.0|   200|4085|1995-07-01 00:00:09|\n",
      "|  burger.letters.com|   GET|/shuttle/countdow...|HTTP/1.0|   304|   0|1995-07-01 00:00:11|\n",
      "|      199.120.110.21|   GET|/shuttle/missions...|HTTP/1.0|   200|4179|1995-07-01 00:00:11|\n",
      "|  burger.letters.com|   GET|/images/NASA-logo...|HTTP/1.0|   304|   0|1995-07-01 00:00:12|\n",
      "|  burger.letters.com|   GET|/shuttle/countdow...|HTTP/1.0|   200|   0|1995-07-01 00:00:12|\n",
      "|     205.212.115.106|   GET|/shuttle/countdow...|HTTP/1.0|   200|3985|1995-07-01 00:00:12|\n",
      "|         d104.aa.net|   GET| /shuttle/countdown/|HTTP/1.0|   200|3985|1995-07-01 00:00:13|\n",
      "|      129.94.144.152|   GET|                   /|HTTP/1.0|   200|7074|1995-07-01 00:00:13|\n",
      "+--------------------+------+--------------------+--------+------+----+-------------------+\n",
      "only showing top 10 rows\n",
      "\n"
     ]
    }
   ],
   "source": [
    "# Cambiamos el formato de fecha para que sea mas amigable, usaremos una UDF\n",
    "\n",
    "from pyspark.sql.functions import udf\n",
    "month = {\n",
    "    'Jan': 1, 'Feb': 2, 'Mar': 3, 'Apr': 4, 'May': 5, 'Jun': 6, 'Jul':7,\n",
    "    'Aug': 8, 'Sept': 9, 'Oct': 10, 'Nov': 11, 'Dec': 12\n",
    "}\n",
    "\n",
    "def parse_time(text):\n",
    "    return '{0:04d}-{1:02d}-{2:02d} {3:02d}:{4:02d}:{5:02d}'.format(\n",
    "    int(text[7:11]),\n",
    "    month[text[3:6]],\n",
    "    int(text[0:2]),\n",
    "    int(text[12:14]),\n",
    "    int(text[15:17]),\n",
    "    int(text[18:20]))\n",
    "\n",
    "udf_time = udf(parse_time)\n",
    "\n",
    "nasa_log = (nasa_log.select('*', udf_time(nasa_log['timestamp'])\n",
    "                           .cast('timestamp')\n",
    "                           .alias('time'))\n",
    "           .drop('timestamp'))\n",
    "nasa_log.show(10)"
   ]
  },
  {
   "cell_type": "code",
   "execution_count": 41,
   "id": "8bed948a",
   "metadata": {},
   "outputs": [
    {
     "name": "stdout",
     "output_type": "stream",
     "text": [
      "root\n",
      " |-- host: string (nullable = true)\n",
      " |-- method: string (nullable = true)\n",
      " |-- resources: string (nullable = true)\n",
      " |-- protocol: string (nullable = true)\n",
      " |-- status: integer (nullable = true)\n",
      " |-- size: integer (nullable = false)\n",
      " |-- time: timestamp (nullable = true)\n",
      "\n"
     ]
    }
   ],
   "source": [
    "nasa_log.printSchema()"
   ]
  },
  {
   "cell_type": "code",
   "execution_count": null,
   "id": "e6fe16ee",
   "metadata": {},
   "outputs": [],
   "source": [
    "path_parquet= '/nasaParquet'\n",
    "nasa_log.write \\\n",
    "    .mode(\"overwrite\") \\\n",
    "    .format(\"parquet\") \\\n",
    "    .save(path_parquet)"
   ]
  },
  {
   "cell_type": "code",
   "execution_count": null,
   "id": "66d5e625",
   "metadata": {},
   "outputs": [],
   "source": []
  }
 ],
 "metadata": {
  "kernelspec": {
   "display_name": "Python 3 (ipykernel)",
   "language": "python",
   "name": "python3"
  },
  "language_info": {
   "codemirror_mode": {
    "name": "ipython",
    "version": 3
   },
   "file_extension": ".py",
   "mimetype": "text/x-python",
   "name": "python",
   "nbconvert_exporter": "python",
   "pygments_lexer": "ipython3",
   "version": "3.9.7"
  }
 },
 "nbformat": 4,
 "nbformat_minor": 5
}
